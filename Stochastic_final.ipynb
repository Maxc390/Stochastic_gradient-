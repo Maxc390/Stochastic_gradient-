{
 "cells": [
  {
   "cell_type": "code",
   "execution_count": 105,
   "id": "d5d0b0cd",
   "metadata": {},
   "outputs": [
    {
     "name": "stdout",
     "output_type": "stream",
     "text": [
      "STOCHASTIC GRADIENT\n"
     ]
    }
   ],
   "source": [
    "print(\"STOCHASTIC GRADIENT\")"
   ]
  },
  {
   "cell_type": "code",
   "execution_count": null,
   "id": "d066cacf",
   "metadata": {},
   "outputs": [],
   "source": []
  },
  {
   "cell_type": "markdown",
   "id": "9b3b9924",
   "metadata": {},
   "source": [
    "$$Gradient\\ descent\\ is\\ an\\ optimiazation\\ algorithm\\ to\\ find\\ minimum\\ of\\ a\\ cost\\ function.$$"
   ]
  },
  {
   "cell_type": "markdown",
   "id": "3f421d21",
   "metadata": {},
   "source": [
    "$$ \\underline {STOCHASTIC\\ GRADIENT\\ DESCENT}\\ \\\\ Stochastic\\ gradient\\ descent\\ \n",
    "involves\\ the\\ evaluation\\ of\\ each\\ set\\ but\\ one\\ at\\ a\\ time\\\\ \\underline {Advantages}\\\\ 1.Fast\\  processing\\ \n",
    "speed\\\\ \\underline{Disadvantages}\\\\ 1.lower\\ computational\\ efficiency$$"
   ]
  },
  {
   "cell_type": "code",
   "execution_count": 106,
   "id": "b4978de2",
   "metadata": {},
   "outputs": [],
   "source": [
    "import numpy as np\n",
    "import matplotlib.pyplot as plt"
   ]
  },
  {
   "cell_type": "markdown",
   "id": "68a1624a",
   "metadata": {},
   "source": [
    "$$ \\underline{Stochastic\\ Gradient\\ Descent:}\\ a\\ single,\\ random\\ observation\\ in\\ the\\ training\\ data\\ is\\ selected\\ at\\ each\\ step.\\\\ \n",
    "This\\ algorithm\\ is\\ very\\ fast,\\ only\\ needing\\ to\\ perform\\ calculations\\ on\\ a\\ single\\ point\\ at\\ a\\ time.\\ However,\\ it\\\\\n",
    "is\\ erratic\\ and\\ may\\ select\\ points\\ from\\ all\\ over\\ the\\ place,\\ never\\ stopping\\ at\\ a\\ truly\\ accurate\\ solution.\\ Instead,\\\n",
    "it\\\\ approaches\\ the\\ minimum\\ on\\ average.\\ That\\ being\\ said,\\ this\\ algorithm\\ is\\ much\\ more\\ likely\\ to\\ find\\ the\\ global\\ maximum.\\\\\n",
    "Some\\ of\\ the\\ erratic\\ nature\\ of\\ the\\ algorithm\\ can\\ be\\ solved\\ by\\ using\\ a\\ learning\\ schedule\\ that\\\\ slowly\\ reduces\\ the\\ learning\\ \n",
    "rate\\ so\\ that\\ it\\ can\\ settle\\ on\\ a\\ more\\ accurate\\ solution.\\\\\n",
    "Costfunction->\\ f(x)= \\frac {1}2n \\sum_{x=i}^n (Y'-y)^2\\\\ Where\\ n=number\\ of\\ items,\\ Y'=predicted\\ value\\ of\\ y,\\ y=actual\\ value\\ of\\  Y$$"
   ]
  },
  {
   "cell_type": "code",
   "execution_count": 113,
   "id": "2ef982fc",
   "metadata": {},
   "outputs": [],
   "source": [
    "#Get gradient by doing the derivative of the cost function\n",
    "def gradient(x,y,theta):\n",
    "    m=len(y)\n",
    "    sum=0\n",
    "    for i in range(m):\n",
    "        sum+=(-1)*(1/m*(np.sum(np.square((y[i]-2*x[i]))-theta)))\n",
    "    return sum"
   ]
  },
  {
   "cell_type": "code",
   "execution_count": 115,
   "id": "f78a2e77",
   "metadata": {},
   "outputs": [
    {
     "name": "stdout",
     "output_type": "stream",
     "text": [
      "Values of cost_function:  [46.54852864 28.19428767 13.71647345  8.00873685  5.1247781   2.65640024\n",
      "  2.02261515  1.51596993  1.16476529  1.00348844]\n"
     ]
    },
    {
     "data": {
      "text/plain": [
       "Text(0, 0.5, 'Cost')"
      ]
     },
     "execution_count": 115,
     "metadata": {},
     "output_type": "execute_result"
    },
    {
     "data": {
      "image/png": "[encoded data removed]",
      "text/plain": [
       "<Figure size 640x480 with 1 Axes>"
      ]
     },
     "metadata": {},
     "output_type": "display_data"
    }
   ],
   "source": [
    "import numpy as np\n",
    "\n",
    "def sgd(gradient, x, y, start, learn_rate=0.1, batch_size=1, n_iter=50,tolerance=1e-06, dtype=\"float64\", random_state=None):\n",
    "\n",
    "    # Setting up the data type for NumPy arrays\n",
    "    dtype_ = np.dtype(dtype)\n",
    "    \n",
    "    #create an array filled with zeros \n",
    "    cost_history = np.zeros(iterations)\n",
    "    \n",
    "    # Converting x and y to NumPy arrays\n",
    "    x, y = np.array(x, dtype=dtype_), np.array(y, dtype=dtype_)\n",
    "    n_obs = x.shape[0]\n",
    "    \n",
    "    if n_obs != y.shape[0]:\n",
    "        raise ValueError(\"'x' and 'y' lengths do not match\")\n",
    "    xy = np.c_[x.reshape(n_obs, -1), y.reshape(n_obs, 1)]\n",
    "\n",
    "    # Initializing the random number generator\n",
    "    seed = None if random_state is None else int(random_state)\n",
    "    rng = np.random.default_rng(seed=seed)\n",
    "\n",
    "    # Initializing the values of the variables\n",
    "    vector = np.array(start, dtype=dtype_)\n",
    "\n",
    "    # Setting up and checking the learning rate\n",
    "    learn_rate = np.array(learn_rate, dtype=dtype_)\n",
    "    if np.any(learn_rate <= 0):\n",
    "        raise ValueError(\"'learn_rate' must be greater than zero\")\n",
    "\n",
    "    # Setting up and checking the size of minibatches\n",
    "    batch_size = int(batch_size)\n",
    "    if not 0 < batch_size <= n_obs:\n",
    "        raise ValueError(\n",
    "            \"'batch_size' must be greater than zero and less than \"\n",
    "            \"or equal to the number of observations\"\n",
    "        )\n",
    "        \n",
    "    # Setting up and checking the tolerance\n",
    "    tolerance = np.array(tolerance, dtype=dtype_)\n",
    "    if np.any(tolerance <= 0):\n",
    "        raise ValueError(\"'tolerance' must be greater than zero\")\n",
    "\n",
    "    # Performing the gradient descent loop\n",
    "    for _ in range(n_iter):\n",
    "        # Shuffle x and y\n",
    "        rng.shuffle(xy)\n",
    "\n",
    "        # Performing minibatch moves\n",
    "        for start in range(0, n_obs, batch_size):\n",
    "            stop = start + batch_size\n",
    "            x_batch, y_batch = xy[start:stop, :-1], xy[start:stop, -1:]\n",
    "\n",
    "            # Recalculating the difference\n",
    "            grad = np.array(gradient(x_batch, y_batch, vector), dtype_)\n",
    "            diff = -learn_rate * grad\n",
    "\n",
    "            # Checking if the absolute difference is small enough\n",
    "            if np.all(np.abs(diff) <= tolerance):\n",
    "                break\n",
    "\n",
    "            # Updating the values of the variables\n",
    "            vector += diff\n",
    "            cost_history[start]= vector\n",
    "    return vector if vector.shape else vector.item()\n",
    "\n",
    "#initialise values\n",
    "x=np.random.rand(100,1)\n",
    "y=2*x+ np.random.rand()\n",
    "#call the function\n",
    "sgd(gradient, x, y, start=1,learn_rate=0.1, batch_size=1, n_iter=50,tolerance=1e-06, dtype=\"float64\", random_state=None)\n",
    "\n",
    "print(\"Values of cost_function: \",cost_history)\n",
    "plt.plot(range(10),cost_history)\n",
    "plt.xlabel('Number of iterations')\n",
    "plt.ylabel('Cost')\n"
   ]
  },
  {
   "cell_type": "markdown",
   "id": "d4cc3cec",
   "metadata": {},
   "source": [
    "$$From\\ the\\ above\\ graph,\\ We\\  can\\ state\\  that\\ the\\ cost\\ function\\ minimizes\\ with\\ increase\\ in\\ iterations.\\ \n",
    "$$"
   ]
  },
  {
   "cell_type": "code",
   "execution_count": null,
   "id": "7d649958",
   "metadata": {},
   "outputs": [],
   "source": []
  },
  {
   "cell_type": "code",
   "execution_count": null,
   "id": "56bd3b89",
   "metadata": {},
   "outputs": [],
   "source": []
  },
  {
   "cell_type": "code",
   "execution_count": null,
   "id": "02b1a90d",
   "metadata": {},
   "outputs": [],
   "source": []
  },
  {
   "cell_type": "code",
   "execution_count": null,
   "id": "a3da40f1",
   "metadata": {},
   "outputs": [],
   "source": []
  }
 ],
 "metadata": {
  "kernelspec": {
   "display_name": "Python 3 (ipykernel)",
   "language": "python",
   "name": "python3"
  },
  "language_info": {
   "codemirror_mode": {
    "name": "ipython",
    "version": 3
   },
   "file_extension": ".py",
   "mimetype": "text/x-python",
   "name": "python",
   "nbconvert_exporter": "python",
   "pygments_lexer": "ipython3",
   "version": "3.9.13"
  }
 },
 "nbformat": 4,
 "nbformat_minor": 5
}
